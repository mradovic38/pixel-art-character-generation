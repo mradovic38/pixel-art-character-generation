{
 "cells": [
  {
   "cell_type": "markdown",
   "id": "d1beea7b0d1b4aa6",
   "metadata": {},
   "source": [
    "# 0. Imports"
   ]
  },
  {
   "cell_type": "code",
   "id": "95e2ec29-55d2-4a07-a3ac-e269e793206b",
   "metadata": {},
   "source": [
    "%cd ../../.."
   ],
   "outputs": [],
   "execution_count": null
  },
  {
   "cell_type": "code",
   "id": "initial_id",
   "metadata": {
    "ExecuteTime": {
     "end_time": "2025-08-24T18:20:42.071776Z",
     "start_time": "2025-08-24T18:20:38.489257Z"
    }
   },
   "source": [
    "from sampling.conditional_probability_path import GaussianConditionalProbabilityPath\n",
    "from sampling.sampleable import PixelArtSampler\n",
    "from sampling.noise_scheduling import LinearAlpha, LinearBeta\n",
    "from models.unet import PixelArtUNet\n",
    "from training.trainer import UnguidedTrainer\n",
    "from training.evaluation import FID\n",
    "from training.ema import EMA\n",
    "from diff_eq.ode_sde import UnguidedVectorFieldODE\n",
    "from diff_eq.simulator import EulerSimulator\n",
    "from utils.visualization import visualize_training_logs\n",
    "\n",
    "import torch\n",
    "from torchvision.utils import make_grid\n",
    "import matplotlib.pyplot as plt\n",
    "\n",
    "device = torch.device('cuda' if torch.cuda.is_available() else 'cpu')"
   ],
   "outputs": [],
   "execution_count": 3
  },
  {
   "cell_type": "markdown",
   "id": "15d6274bd2eaabd2",
   "metadata": {},
   "source": [
    "# 1. Train"
   ]
  },
  {
   "cell_type": "code",
   "id": "70527300bad06081",
   "metadata": {},
   "source": [
    "if 'unet' in locals():\n",
    "    del unet\n",
    "torch.cuda.empty_cache()\n",
    "torch.cuda.ipc_collect()\n",
    "\n",
    "# Initialize probability path\n",
    "sampler = PixelArtSampler('dataset/images').to(device)\n",
    "path = GaussianConditionalProbabilityPath(\n",
    "    p_data=sampler,\n",
    "    p_simple_shape=[4, 128, 128],\n",
    "    alpha=LinearAlpha(),\n",
    "    beta=LinearBeta()\n",
    ").to(device)\n",
    "\n",
    "# Initialize model\n",
    "unet = PixelArtUNet(\n",
    "    channels=[128, 256, 512, 512],\n",
    "    num_residual_layers=2,\n",
    "    t_embed_dim=128,\n",
    "    midcoder_dropout_p=0.2\n",
    ")\n",
    "\n",
    "# Initialize evaluation metric\n",
    "metric = FID(\n",
    "    feature=2048,\n",
    "    normalize=True,\n",
    "    image_size=(299, 299)\n",
    ")\n",
    "\n",
    "# Initialize EMA\n",
    "ema = EMA(model=unet, max_decay=0.999)\n",
    "\n",
    "# Initialize trainer\n",
    "trainer = UnguidedTrainer(\n",
    "    path=path,\n",
    "    model=unet,\n",
    "    experiment_dir=\"training/experiments/unet_mid_ema\",\n",
    "    eval_metric=metric\n",
    ")\n",
    "\n",
    "# Train :D\n",
    "trainer.train(\n",
    "    device=device,\n",
    "    num_epochs=20000,\n",
    "    batch_size=64,\n",
    "    lr=1e-4,\n",
    "    weight_decay=5e-4,\n",
    "    validate_every=250,\n",
    "    val_timesteps=200,\n",
    "    resume=False,\n",
    "    lr_warmup_steps_frac=0.1,\n",
    "    num_images_to_save=3,\n",
    "    save_images_every=250\n",
    ")"
   ],
   "outputs": [],
   "execution_count": null
  },
  {
   "cell_type": "markdown",
   "id": "1550a7fcf515849",
   "metadata": {},
   "source": [
    "# 2. Visualize model performance over time"
   ]
  },
  {
   "cell_type": "code",
   "id": "f6e4473f1c4dcbec",
   "metadata": {},
   "source": "visualize_training_logs(log_path=\"training/experiments/unet_mid_ema/training_log.csv\", scale=\"linear\")",
   "outputs": [],
   "execution_count": null
  },
  {
   "cell_type": "markdown",
   "id": "76fe6c54-fe8b-4575-bcf7-4afc662fdb8d",
   "metadata": {},
   "source": [
    "# 3. Evaluate on the test set"
   ]
  },
  {
   "cell_type": "code",
   "id": "4844c463-d1a0-4871-b3f0-80f6e6c75529",
   "metadata": {},
   "source": [
    "sampler = PixelArtSampler('dataset/images').to(device)\n",
    "\n",
    "# Initialize model\n",
    "unet = PixelArtUNet(\n",
    "    channels=[128, 256, 512, 512],\n",
    "    num_residual_layers=2,\n",
    "    t_embed_dim=128,\n",
    "    midcoder_dropout_p=0.2\n",
    ").to(device)\n",
    "unet.eval()\n",
    "\n",
    "path = GaussianConditionalProbabilityPath(\n",
    "    p_data=sampler,\n",
    "    p_simple_shape = [4, 128, 128],\n",
    "    alpha = LinearAlpha(),\n",
    "    beta = LinearBeta()\n",
    ").to(device)\n",
    "path.eval()\n",
    "\n",
    "# Initialize evaluation metric\n",
    "metric = FID(\n",
    "    feature=2048,\n",
    "    normalize=True,\n",
    "    image_size=(299, 299)\n",
    ")\n",
    "\n",
    "# Initialize trainer\n",
    "trainer = UnguidedTrainer(\n",
    "    path=path,\n",
    "    model=unet,\n",
    "    experiment_dir=\"training/experiments/unet_mid_ema\",\n",
    "    eval_metric=metric\n",
    ")\n",
    "\n",
    "test_fid = trainer.evaluate(batch_size=64, device=device, num_timesteps=100, mode=\"test\")\n",
    "\n",
    "print(f\"FID on the test set: {test_fid:.4f}\")"
   ],
   "outputs": [],
   "execution_count": null
  },
  {
   "cell_type": "markdown",
   "id": "c33ff8230cbdf0f8",
   "metadata": {},
   "source": [
    "# 4. Visualize results"
   ]
  },
  {
   "cell_type": "code",
   "id": "45ae061031325f8",
   "metadata": {},
   "source": [
    "from utils.helpers import tensor_to_rgba_image\n",
    "\n",
    "# Parameters\n",
    "num_samples = 20\n",
    "num_timesteps = 200\n",
    "\n",
    "# Load model from checkpoints\n",
    "cp = torch.load(\"training/experiments/unet_mid_ema/best_model.pt\", map_location=device)\n",
    "model = PixelArtUNet(\n",
    "    channels = [128, 256, 512, 512],\n",
    "    num_residual_layers = 2,\n",
    "    t_embed_dim = 128,\n",
    "    midcoder_dropout_p=0.2\n",
    ").to(device)\n",
    "model.load_state_dict(cp['model_state'])\n",
    "model.eval()\n",
    "\n",
    "sampler = PixelArtSampler('dataset/images').to(device)\n",
    "path = GaussianConditionalProbabilityPath(\n",
    "    p_data=sampler,\n",
    "    p_simple_shape = [4, 128, 128],\n",
    "    alpha = LinearAlpha(),\n",
    "    beta = LinearBeta()\n",
    ").to(device)\n",
    "\n",
    "# Simulate\n",
    "ts = torch.linspace(0, 1, num_timesteps).view(1, -1, 1, 1, 1).expand(num_samples, -1, 1, 1, 1).to(device)\n",
    "x0 = path.p_simple.sample(num_samples).to(device)  # (num_samples, 4, 128, 128)\n",
    "\n",
    "# Run simulation\n",
    "ode = UnguidedVectorFieldODE(model)\n",
    "simulator = EulerSimulator(ode)\n",
    "x1 = simulator.simulate(x0, ts)  # (num_samples, 4, 128, 128)\n",
    "\n",
    "for i in range(num_samples):\n",
    "    img_tensor = x1[i]\n",
    "    img = tensor_to_rgba_image(img_tensor)  # Expects a tensor in [-1, 1] or [0, 1], shape (4, H, W)\n",
    "    img.save(f\"image_{i}.png\")\n",
    "\n",
    "# Keep RGBA\n",
    "rgba = x1[:, :4]  # (num_samples, 4, H, W)\n",
    "\n",
    "# Separate channels\n",
    "rgb = rgba[:, :3]\n",
    "alpha = rgba[:, 3:4]  # shape (N, 1, H, W)\n",
    "rgb = (rgb + 1) / 2  # → [0, 1]\n",
    "alpha = (alpha + 1) / 2  # → [0, 1]\n",
    "\n",
    "# Composite over white background\n",
    "white_bg = torch.ones_like(rgb)  # all ones = white\n",
    "img = alpha * rgb + (1 - alpha) * white_bg\n",
    "\n",
    "# Make grid\n",
    "grid = make_grid(img, nrow=num_samples, normalize=False)\n",
    "\n",
    "# Plot\n",
    "plt.figure(figsize=(20, 10))\n",
    "plt.imshow(grid.permute(1, 2, 0).clamp(0, 1).cpu().numpy())\n",
    "plt.axis(\"off\")\n",
    "plt.tight_layout()\n",
    "plt.show()"
   ],
   "outputs": [],
   "execution_count": null
  }
 ],
 "metadata": {
  "kernelspec": {
   "display_name": "Python 3 (ipykernel)",
   "language": "python",
   "name": "python3"
  },
  "language_info": {
   "codemirror_mode": {
    "name": "ipython",
    "version": 3
   },
   "file_extension": ".py",
   "mimetype": "text/x-python",
   "name": "python",
   "nbconvert_exporter": "python",
   "pygments_lexer": "ipython3",
   "version": "3.11.11"
  }
 },
 "nbformat": 4,
 "nbformat_minor": 5
}
