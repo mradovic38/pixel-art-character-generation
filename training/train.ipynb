{
 "cells": [
  {
   "metadata": {},
   "cell_type": "markdown",
   "source": "# 0. Imports",
   "id": "d1beea7b0d1b4aa6"
  },
  {
   "metadata": {
    "ExecuteTime": {
     "end_time": "2025-07-31T17:30:46.172801Z",
     "start_time": "2025-07-31T17:30:43.914047Z"
    }
   },
   "cell_type": "code",
   "source": [
    "from sampling.conditional_probability_path import GaussianConditionalProbabilityPath\n",
    "from sampling.sampleable import PixelArtSampler\n",
    "from sampling.noise_scheduling import LinearAlpha, LinearBeta\n",
    "from models.unet import PixelArtUNet\n",
    "from training.trainer import UnguidedTrainer\n",
    "from diff_eq.ode_sde import UnguidedVectorFieldODE\n",
    "from diff_eq.simulator import EulerSimulator\n",
    "\n",
    "import torch\n",
    "from torchvision.utils import make_grid\n",
    "import matplotlib.pyplot as plt\n",
    "\n",
    "device = torch.device('cuda' if torch.cuda.is_available() else 'cpu')"
   ],
   "id": "initial_id",
   "outputs": [],
   "execution_count": 1
  },
  {
   "metadata": {},
   "cell_type": "markdown",
   "source": "# 1. Train",
   "id": "15d6274bd2eaabd2"
  },
  {
   "metadata": {
    "jupyter": {
     "is_executing": true
    },
    "ExecuteTime": {
     "end_time": "2025-07-31T17:31:06.302726051Z",
     "start_time": "2025-07-31T17:30:46.240232Z"
    }
   },
   "cell_type": "code",
   "source": [
    "if 'unet' in locals():\n",
    "    del unet\n",
    "torch.cuda.empty_cache()\n",
    "torch.cuda.ipc_collect()\n",
    "\n",
    "# Initialize probability path\n",
    "sampler = PixelArtSampler('../dataset/images').to(device)\n",
    "\n",
    "path = GaussianConditionalProbabilityPath(\n",
    "    p_data=sampler,\n",
    "    p_simple_shape = [4, 128, 128],\n",
    "    alpha = LinearAlpha(),\n",
    "    beta = LinearBeta()\n",
    ").to(device)\n",
    "\n",
    "# Initialize model\n",
    "unet = PixelArtUNet(\n",
    "    channels = [32, 64, 128],\n",
    "    num_residual_layers = 2,\n",
    "    t_embed_dim = 40\n",
    ")\n",
    "\n",
    "# Initialize trainer\n",
    "trainer = UnguidedTrainer(path=path, model=unet, experiment_dir=\"unet\")\n",
    "\n",
    "# Train :D\n",
    "trainer.train(\n",
    "    device=device,\n",
    "    num_epochs = 5000,\n",
    "    batch_size=128,\n",
    "    lr=1e-3,\n",
    "    validate_every=50,\n",
    "    resume=False,\n",
    "    lr_warmup_steps_frac=0.1,\n",
    "    num_images_to_save=5,\n",
    "    save_images_every=50\n",
    ")"
   ],
   "id": "70527300bad06081",
   "outputs": [
    {
     "name": "stdout",
     "output_type": "stream",
     "text": [
      "Model size: 4.5572 MiB\n"
     ]
    },
    {
     "name": "stderr",
     "output_type": "stream",
     "text": [
      "  0%|          | 0/10 [00:00<?, ?it/s]"
     ]
    }
   ],
   "execution_count": null
  },
  {
   "metadata": {},
   "cell_type": "markdown",
   "source": "# 2. Visualize results",
   "id": "c33ff8230cbdf0f8"
  },
  {
   "metadata": {
    "jupyter": {
     "is_executing": true
    },
    "ExecuteTime": {
     "start_time": "2025-07-31T17:24:18.027616Z"
    }
   },
   "cell_type": "code",
   "source": [
    "# Parameters\n",
    "num_samples = 10\n",
    "num_timesteps = 100\n",
    "\n",
    "# Simulate\n",
    "ts = torch.linspace(0, 1, num_timesteps).view(1, -1, 1, 1, 1).expand(num_samples, -1, 1, 1, 1).to(device)\n",
    "x0 = path.p_simple.sample(num_samples).to(device)  # (num_samples, 4, 128, 128)\n",
    "\n",
    "# Run simulation\n",
    "ode = UnguidedVectorFieldODE(unet)\n",
    "simulator = EulerSimulator(ode)\n",
    "x1 = simulator.simulate(x0, ts)  # (num_samples, 4, 128, 128)\n",
    "\n",
    "# Make grid from output (only use first 3 channels if RGB)\n",
    "img = x1[:, :3]  # (num_samples, 3, H, W)\n",
    "grid = make_grid(img, nrow=num_samples, normalize=True, value_range=(-1, 1))\n",
    "\n",
    "# Plot\n",
    "plt.figure(figsize=(20, 2))\n",
    "plt.imshow(grid.permute(1, 2, 0).cpu().numpy())\n",
    "plt.axis(\"off\")\n",
    "plt.tight_layout()\n",
    "plt.show()"
   ],
   "id": "45ae061031325f8",
   "outputs": [
    {
     "name": "stdout",
     "output_type": "stream",
     "text": [
      "True\n",
      "4\n"
     ]
    }
   ],
   "execution_count": null
  }
 ],
 "metadata": {
  "kernelspec": {
   "display_name": "Python 3",
   "language": "python",
   "name": "python3"
  },
  "language_info": {
   "codemirror_mode": {
    "name": "ipython",
    "version": 2
   },
   "file_extension": ".py",
   "mimetype": "text/x-python",
   "name": "python",
   "nbconvert_exporter": "python",
   "pygments_lexer": "ipython2",
   "version": "2.7.6"
  }
 },
 "nbformat": 4,
 "nbformat_minor": 5
}
