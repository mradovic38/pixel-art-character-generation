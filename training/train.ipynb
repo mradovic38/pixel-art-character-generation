{
 "cells": [
  {
   "metadata": {},
   "cell_type": "markdown",
   "source": "# 0. Imports",
   "id": "d1beea7b0d1b4aa6"
  },
  {
   "metadata": {
    "ExecuteTime": {
     "end_time": "2025-07-31T14:49:02.922667Z",
     "start_time": "2025-07-31T14:49:00.583840Z"
    }
   },
   "cell_type": "code",
   "source": [
    "from sampling.conditional_probability_path import GaussianConditionalProbabilityPath\n",
    "from sampling.sampleable import PixelArtSampler\n",
    "from sampling.noise_scheduling import LinearAlpha, LinearBeta\n",
    "from models.unet import PixelArtUNet\n",
    "from training.trainer import UnguidedTrainer\n",
    "from diff_eq.ode_sde import UnguidedVectorFieldODE\n",
    "from diff_eq.simulator import EulerSimulator\n",
    "\n",
    "import torch\n",
    "from torchvision.utils import make_grid\n",
    "import matplotlib.pyplot as plt\n",
    "\n",
    "device = torch.device('cuda' if torch.cuda.is_available() else 'cpu')"
   ],
   "id": "initial_id",
   "outputs": [],
   "execution_count": 1
  },
  {
   "metadata": {},
   "cell_type": "markdown",
   "source": "# 1. Train",
   "id": "15d6274bd2eaabd2"
  },
  {
   "metadata": {
    "jupyter": {
     "is_executing": true
    },
    "ExecuteTime": {
     "start_time": "2025-07-31T14:49:03.864284Z"
    }
   },
   "cell_type": "code",
   "source": [
    "# Initialize probability path\n",
    "path = GaussianConditionalProbabilityPath(\n",
    "    p_data = PixelArtSampler('../dataset/images'),\n",
    "    p_simple_shape = [4, 128, 128],\n",
    "    alpha = LinearAlpha(),\n",
    "    beta = LinearBeta()\n",
    ").to(device)\n",
    "\n",
    "# Initialize model\n",
    "unet = PixelArtUNet(\n",
    "    channels = [64, 128, 256, 512],\n",
    "    num_residual_layers = 4,\n",
    "    t_embed_dim = 40\n",
    ")\n",
    "\n",
    "# Initialize trainer\n",
    "trainer = UnguidedTrainer(path=path, model=unet)\n",
    "\n",
    "# Train!\n",
    "trainer.train(num_epochs = 1, device=device, lr=1e-3, batch_size=1)"
   ],
   "id": "70527300bad06081",
   "outputs": [
    {
     "name": "stdout",
     "output_type": "stream",
     "text": [
      "Model size: 132.3578 MiB\n"
     ]
    },
    {
     "name": "stderr",
     "output_type": "stream",
     "text": [
      "  0%|          | 0/1 [00:00<?, ?it/s]"
     ]
    }
   ],
   "execution_count": null
  },
  {
   "metadata": {},
   "cell_type": "markdown",
   "source": "# 2. Visualize results",
   "id": "c33ff8230cbdf0f8"
  },
  {
   "metadata": {},
   "cell_type": "code",
   "outputs": [],
   "execution_count": null,
   "source": [
    "num_samples = 10\n",
    "num_timesteps = 100\n",
    "\n",
    "# Graph\n",
    "fig, ax = plt.plot()\n",
    "\n",
    "# Setup ode and simulator\n",
    "ode = UnguidedVectorFieldODE(unet)\n",
    "simulator = EulerSimulator(ode)\n",
    "\n",
    "# Sample initial conditions\n",
    "x0 = path.p_simple.sample(num_samples) # (num_samples, 4, 128, 128)\n",
    "\n",
    "# Simulate\n",
    "ts = torch.linspace(0,1,num_timesteps).view(1, -1, 1, 1, 1).expand(num_samples, -1, 1, 1, 1).to(device)\n",
    "x1 = simulator.simulate(x0, ts,)\n",
    "\n",
    "# Plot\n",
    "grid = make_grid(x1, nrow=num_samples, normalize=True, value_range=(-1,1))\n",
    "ax.imshow(grid.permute(1, 2, 0).cpu())\n",
    "ax.axis(\"off\")\n",
    "plt.show()"
   ],
   "id": "45ae061031325f8"
  }
 ],
 "metadata": {
  "kernelspec": {
   "display_name": "Python 3",
   "language": "python",
   "name": "python3"
  },
  "language_info": {
   "codemirror_mode": {
    "name": "ipython",
    "version": 2
   },
   "file_extension": ".py",
   "mimetype": "text/x-python",
   "name": "python",
   "nbconvert_exporter": "python",
   "pygments_lexer": "ipython2",
   "version": "2.7.6"
  }
 },
 "nbformat": 4,
 "nbformat_minor": 5
}
