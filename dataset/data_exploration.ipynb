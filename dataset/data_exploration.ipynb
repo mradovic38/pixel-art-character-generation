{
 "cells": [
  {
   "metadata": {},
   "cell_type": "markdown",
   "source": "# 0. Imports",
   "id": "ecd43c0e3d2d47de"
  },
  {
   "metadata": {
    "jupyter": {
     "is_executing": true
    },
    "ExecuteTime": {
     "start_time": "2025-07-27T23:30:53.234245Z"
    }
   },
   "cell_type": "code",
   "source": [
    "from sampling.conditional_probability_path import ConditionalProbabilityPath, GaussianConditionalProbabilityPath\n",
    "from sampling.noise_scheduling import LinearAlpha, LinearBeta\n",
    "from sampling.sampleable import PixelArtSampler\n",
    "\n",
    "import torch\n",
    "import matplotlib.pyplot as plt\n",
    "from torchvision.utils import make_grid\n",
    "\n",
    "device = torch.device('cuda' if torch.cuda.is_available() else 'cpu')"
   ],
   "id": "initial_id",
   "outputs": [],
   "execution_count": null
  },
  {
   "metadata": {},
   "cell_type": "markdown",
   "source": "",
   "id": "96c02be6d9c1048e"
  },
  {
   "metadata": {},
   "cell_type": "code",
   "outputs": [],
   "execution_count": null,
   "source": [
    "def sample_and_plot(path: ConditionalProbabilityPath, num_rows: int = 3, num_cols: int = 3, num_timesteps: int = 5):\n",
    "    sampler = PixelArtSampler().to(device)\n",
    "    num_samples = num_cols * num_rows\n",
    "    z, _ = path.p_data.sample(num_samples)\n",
    "    z = z.view(-1, 3, 128, 128)\n",
    "\n",
    "    fig, axes = plt.subplots(1, num_timesteps, figsize=(6 * num_cols * num_timesteps, 6 * num_rows))\n",
    "\n",
    "    ts = torch.linspace(0, 1, num_timesteps).to(device)\n",
    "\n",
    "    for t_idx, t in enumerate(ts):\n",
    "        tt = t.view(1, 1, 1, 1).expand(num_samples, 1, 1, 1) # (num_samples, 1, 1, 1)\n",
    "        xt = path.sample_conditional_path(z, tt) # (num_samples, 3, 128, 128)\n",
    "        grid = make_grid(xt, nrow=num_cols, normalize=True, value_range=(-1,1))\n",
    "        axes[t_idx].imshow(grid.permute(1, 2, 0).cpu(), cmap=\"rgb\")\n",
    "        axes[t_idx].axis(\"off\")\n",
    "\n",
    "    plt.show()"
   ],
   "id": "7342ab4980ae052e"
  },
  {
   "metadata": {},
   "cell_type": "code",
   "outputs": [],
   "execution_count": null,
   "source": [
    "path = GaussianConditionalProbabilityPath(p_data=PixelArtSampler(),\n",
    "                                              p_simple_shape=[1, 128, 128],\n",
    "                                              alpha=LinearAlpha(),\n",
    "                                              beta=LinearBeta()\n",
    "                                              ).to(device)\n",
    "\n",
    "sample_and_plot(path)"
   ],
   "id": "8321f156240c1cd3"
  }
 ],
 "metadata": {
  "kernelspec": {
   "display_name": "Python 3",
   "language": "python",
   "name": "python3"
  },
  "language_info": {
   "codemirror_mode": {
    "name": "ipython",
    "version": 2
   },
   "file_extension": ".py",
   "mimetype": "text/x-python",
   "name": "python",
   "nbconvert_exporter": "python",
   "pygments_lexer": "ipython2",
   "version": "2.7.6"
  }
 },
 "nbformat": 4,
 "nbformat_minor": 5
}
